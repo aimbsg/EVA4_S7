{
  "nbformat": 4,
  "nbformat_minor": 0,
  "metadata": {
    "kernelspec": {
      "name": "python3",
      "display_name": "Python 3"
    },
    "language_info": {
      "codemirror_mode": {
        "name": "ipython",
        "version": 3
      },
      "file_extension": ".py",
      "mimetype": "text/x-python",
      "name": "python",
      "nbconvert_exporter": "python",
      "pygments_lexer": "ipython3",
      "version": "3.6.6"
    },
    "colab": {
      "name": "EVA4_S7_Master.ipynb",
      "provenance": [],
      "collapsed_sections": [],
      "include_colab_link": true
    },
    "accelerator": "GPU"
  },
  "cells": [
    {
      "cell_type": "markdown",
      "metadata": {
        "id": "view-in-github",
        "colab_type": "text"
      },
      "source": [
        "<a href=\"https://colab.research.google.com/github/aimbsg/EVA4_S7/blob/master/EVA4_S7_Master.ipynb\" target=\"_parent\"><img src=\"https://colab.research.google.com/assets/colab-badge.svg\" alt=\"Open In Colab\"/></a>"
      ]
    },
    {
      "cell_type": "code",
      "metadata": {
        "id": "-yVpodAMpoCi",
        "colab_type": "code",
        "outputId": "b39fd5b7-744b-4f0a-e721-76fcd070b3a0",
        "colab": {
          "base_uri": "https://localhost:8080/",
          "height": 34
        }
      },
      "source": [
        "import torch\n",
        "import torchvision\n",
        "import torchvision.transforms as transforms\n",
        "import torch.optim as optim\n",
        "import torch.nn as nn\n",
        "import torch.nn.functional as F\n",
        "import matplotlib.pyplot as plt\n",
        "import numpy as np\n",
        "!pip install torchsummary\n",
        "from torchsummary import summary\n",
        "%matplotlib inline"
      ],
      "execution_count": 0,
      "outputs": [
        {
          "output_type": "stream",
          "text": [
            "Requirement already satisfied: torchsummary in /usr/local/lib/python3.6/dist-packages (1.5.1)\n"
          ],
          "name": "stdout"
        }
      ]
    },
    {
      "cell_type": "markdown",
      "metadata": {
        "id": "5kjt4e2TpoCk",
        "colab_type": "text"
      },
      "source": [
        "The output of torchvision datasets are PILImage images of range [0, 1].\n",
        "We transform them to Tensors of normalized range [-1, 1].\n",
        "\n"
      ]
    },
    {
      "cell_type": "code",
      "metadata": {
        "id": "D8Tjigo2poCl",
        "colab_type": "code",
        "outputId": "93871ce7-df85-4cb7-847c-c1082403c9e7",
        "colab": {
          "base_uri": "https://localhost:8080/",
          "height": 51
        }
      },
      "source": [
        "transform = transforms.Compose(\n",
        "    [transforms.ToTensor(),\n",
        "     transforms.Normalize((0.5, 0.5, 0.5), (0.5, 0.5, 0.5))])\n",
        "\n",
        "trainset = torchvision.datasets.CIFAR10(root='./data', train=True,\n",
        "                                        download=True, transform=transform)\n",
        "trainloader = torch.utils.data.DataLoader(trainset, batch_size=4,\n",
        "                                          shuffle=True, num_workers=2)\n",
        "\n",
        "testset = torchvision.datasets.CIFAR10(root='./data', train=False,\n",
        "                                       download=True, transform=transform)\n",
        "testloader = torch.utils.data.DataLoader(testset, batch_size=4,\n",
        "                                         shuffle=False, num_workers=2)\n",
        "\n",
        "classes = ('plane', 'car', 'bird', 'cat',\n",
        "           'deer', 'dog', 'frog', 'horse', 'ship', 'truck')"
      ],
      "execution_count": 0,
      "outputs": [
        {
          "output_type": "stream",
          "text": [
            "Files already downloaded and verified\n",
            "Files already downloaded and verified\n"
          ],
          "name": "stdout"
        }
      ]
    },
    {
      "cell_type": "markdown",
      "metadata": {
        "id": "_cj433rtpoCn",
        "colab_type": "text"
      },
      "source": [
        "Let us show some of the training images, for fun.\n",
        "\n"
      ]
    },
    {
      "cell_type": "code",
      "metadata": {
        "id": "daA7bADhpoCo",
        "colab_type": "code",
        "outputId": "1e7a875e-c2e5-4f24-ce7f-974a651745ac",
        "colab": {
          "base_uri": "https://localhost:8080/",
          "height": 172
        }
      },
      "source": [
        "# functions to show an image\n",
        "\n",
        "def imshow(img):\n",
        "    img = img / 2 + 0.5     # unnormalize\n",
        "    npimg = img.numpy()\n",
        "    plt.imshow(np.transpose(npimg, (1, 2, 0)))\n",
        "\n",
        "# get some random training images\n",
        "dataiter = iter(trainloader)\n",
        "images, labels = dataiter.next()\n",
        "\n",
        "# show images\n",
        "imshow(torchvision.utils.make_grid(images))\n",
        "# print labels\n",
        "print(' '.join('%5s' % classes[labels[j]] for j in range(4)))\n",
        "\n",
        "images.shape"
      ],
      "execution_count": 0,
      "outputs": [
        {
          "output_type": "stream",
          "text": [
            "plane   cat  frog horse\n"
          ],
          "name": "stdout"
        },
        {
          "output_type": "execute_result",
          "data": {
            "text/plain": [
              "torch.Size([4, 3, 32, 32])"
            ]
          },
          "metadata": {
            "tags": []
          },
          "execution_count": 3
        },
        {
          "output_type": "display_data",
          "data": {
            "image/png": "[encoded data removed]",
            "text/plain": [
              "<Figure size 432x288 with 1 Axes>"
            ]
          },
          "metadata": {
            "tags": []
          }
        }
      ]
    },
    {
      "cell_type": "code",
      "metadata": {
        "id": "Zy5uZCtc4Rds",
        "colab_type": "code",
        "outputId": "29c83c94-72b2-44e8-b428-ac1b79a067c6",
        "colab": {
          "base_uri": "https://localhost:8080/",
          "height": 122
        }
      },
      "source": [
        "from google.colab import drive\n",
        "drive.mount('/content/gdrive')\n",
        "my_path = \"/content/gdrive/My Drive/EVA4_S7_CIFAR10_Moduled\"\n",
        "import sys\n",
        "sys.path.append(my_path)"
      ],
      "execution_count": 1,
      "outputs": [
        {
          "output_type": "stream",
          "text": [
            "Go to this URL in a browser: https://accounts.google.com/o/oauth2/auth?client_id=947318989803-6bn6qk8qdgf4n4g3pfee6491hc0brc4i.apps.googleusercontent.com&redirect_uri=urn%3aietf%3awg%3aoauth%3a2.0%3aoob&response_type=code&scope=email%20https%3a%2f%2fwww.googleapis.com%2fauth%2fdocs.test%20https%3a%2f%2fwww.googleapis.com%2fauth%2fdrive%20https%3a%2f%2fwww.googleapis.com%2fauth%2fdrive.photos.readonly%20https%3a%2f%2fwww.googleapis.com%2fauth%2fpeopleapi.readonly\n",
            "\n",
            "Enter your authorization code:\n",
            "··········\n",
            "Mounted at /content/gdrive\n"
          ],
          "name": "stdout"
        }
      ]
    },
    {
      "cell_type": "code",
      "metadata": {
        "id": "P5Wmg7ATvAzT",
        "colab_type": "code",
        "colab": {}
      },
      "source": [
        "import EVA4_S7_backbone as backbone"
      ],
      "execution_count": 0,
      "outputs": []
    },
    {
      "cell_type": "code",
      "metadata": {
        "id": "scQfX3xihL-o",
        "colab_type": "code",
        "outputId": "e5d0466d-fb41-4abc-d9d5-87306989ab7b",
        "colab": {
          "base_uri": "https://localhost:8080/",
          "height": 1000
        }
      },
      "source": [
        "use_cuda = torch.cuda.is_available()\n",
        "device = torch.device(\"cuda\" if use_cuda else \"cpu\")\n",
        "print(device)\n",
        "model = backbone.Net().to(device)\n",
        "summary(model, input_size=(3, 32, 32))"
      ],
      "execution_count": 0,
      "outputs": [
        {
          "output_type": "stream",
          "text": [
            "cuda\n",
            "----------------------------------------------------------------\n",
            "        Layer (type)               Output Shape         Param #\n",
            "================================================================\n",
            "            Conv2d-1           [-1, 16, 32, 32]             448\n",
            "       BatchNorm2d-2           [-1, 16, 32, 32]              32\n",
            "              ReLU-3           [-1, 16, 32, 32]               0\n",
            "           Dropout-4           [-1, 16, 32, 32]               0\n",
            "            Conv2d-5           [-1, 32, 32, 32]           4,640\n",
            "              ReLU-6           [-1, 32, 32, 32]               0\n",
            "       BatchNorm2d-7           [-1, 32, 32, 32]              64\n",
            "           Dropout-8           [-1, 32, 32, 32]               0\n",
            "         MaxPool2d-9           [-1, 32, 16, 16]               0\n",
            "           Conv2d-10           [-1, 64, 16, 16]          18,496\n",
            "      BatchNorm2d-11           [-1, 64, 16, 16]             128\n",
            "             ReLU-12           [-1, 64, 16, 16]               0\n",
            "          Dropout-13           [-1, 64, 16, 16]               0\n",
            "           Conv2d-14          [-1, 128, 14, 14]          73,856\n",
            "      BatchNorm2d-15          [-1, 128, 14, 14]             256\n",
            "             ReLU-16          [-1, 128, 14, 14]               0\n",
            "          Dropout-17          [-1, 128, 14, 14]               0\n",
            "        MaxPool2d-18            [-1, 128, 7, 7]               0\n",
            "           Conv2d-19             [-1, 64, 7, 7]           8,256\n",
            "      BatchNorm2d-20             [-1, 64, 7, 7]             128\n",
            "             ReLU-21             [-1, 64, 7, 7]               0\n",
            "           Conv2d-22            [-1, 128, 7, 7]          73,856\n",
            "      BatchNorm2d-23            [-1, 128, 7, 7]             256\n",
            "             ReLU-24            [-1, 128, 7, 7]               0\n",
            "          Dropout-25            [-1, 128, 7, 7]               0\n",
            "           Conv2d-26            [-1, 256, 7, 7]         295,168\n",
            "      BatchNorm2d-27            [-1, 256, 7, 7]             512\n",
            "             ReLU-28            [-1, 256, 7, 7]               0\n",
            "          Dropout-29            [-1, 256, 7, 7]               0\n",
            "        MaxPool2d-30            [-1, 256, 3, 3]               0\n",
            "           Conv2d-31             [-1, 64, 3, 3]          16,448\n",
            "      BatchNorm2d-32             [-1, 64, 3, 3]             128\n",
            "             ReLU-33             [-1, 64, 3, 3]               0\n",
            "           Conv2d-34            [-1, 128, 3, 3]          73,856\n",
            "      BatchNorm2d-35            [-1, 128, 3, 3]             256\n",
            "             ReLU-36            [-1, 128, 3, 3]               0\n",
            "          Dropout-37            [-1, 128, 3, 3]               0\n",
            "           Conv2d-38            [-1, 128, 3, 3]           1,280\n",
            "           Conv2d-39            [-1, 256, 3, 3]          33,024\n",
            "      BatchNorm2d-40            [-1, 256, 3, 3]             512\n",
            "          Dropout-41            [-1, 256, 3, 3]               0\n",
            "             ReLU-42            [-1, 256, 3, 3]               0\n",
            "           Conv2d-43             [-1, 10, 3, 3]           2,570\n",
            "      BatchNorm2d-44             [-1, 10, 3, 3]              20\n",
            "             ReLU-45             [-1, 10, 3, 3]               0\n",
            "        AvgPool2d-46             [-1, 10, 1, 1]               0\n",
            "================================================================\n",
            "Total params: 604,190\n",
            "Trainable params: 604,190\n",
            "Non-trainable params: 0\n",
            "----------------------------------------------------------------\n",
            "Input size (MB): 0.01\n",
            "Forward/backward pass size (MB): 3.67\n",
            "Params size (MB): 2.30\n",
            "Estimated Total Size (MB): 5.99\n",
            "----------------------------------------------------------------\n"
          ],
          "name": "stdout"
        }
      ]
    },
    {
      "cell_type": "code",
      "metadata": {
        "id": "M4xBbDROpoCv",
        "colab_type": "code",
        "colab": {}
      },
      "source": [
        "criterion = nn.CrossEntropyLoss()\n",
        "optimizer = optim.SGD(model.parameters(), lr=0.001, momentum=0.9)"
      ],
      "execution_count": 0,
      "outputs": []
    },
    {
      "cell_type": "code",
      "metadata": {
        "id": "7vpZacrE95BC",
        "colab_type": "code",
        "outputId": "054b2e94-8e49-471b-ec84-3ca469f60143",
        "colab": {
          "base_uri": "https://localhost:8080/",
          "height": 1000
        }
      },
      "source": [
        "for epoch in range(25):  # loop over the dataset multiple times  \n",
        "    backbone.train(model,device,trainloader,optimizer,criterion,epoch)\n",
        "print('Training Complete')"
      ],
      "execution_count": 0,
      "outputs": [
        {
          "output_type": "stream",
          "text": [
            "[1,  2000] loss: 2.038\n",
            "[1,  4000] loss: 1.845\n",
            "[1,  6000] loss: 1.739\n",
            "[1,  8000] loss: 1.660\n",
            "[1, 10000] loss: 1.537\n",
            "[1, 12000] loss: 1.458\n",
            "[2,  2000] loss: 1.324\n",
            "[2,  4000] loss: 1.303\n",
            "[2,  6000] loss: 1.256\n",
            "[2,  8000] loss: 1.224\n",
            "[2, 10000] loss: 1.158\n",
            "[2, 12000] loss: 1.131\n",
            "[3,  2000] loss: 1.066\n",
            "[3,  4000] loss: 1.050\n",
            "[3,  6000] loss: 1.012\n",
            "[3,  8000] loss: 0.998\n",
            "[3, 10000] loss: 0.980\n",
            "[3, 12000] loss: 0.970\n",
            "[4,  2000] loss: 0.880\n",
            "[4,  4000] loss: 0.903\n",
            "[4,  6000] loss: 0.884\n",
            "[4,  8000] loss: 0.886\n",
            "[4, 10000] loss: 0.878\n",
            "[4, 12000] loss: 0.843\n",
            "[5,  2000] loss: 0.769\n",
            "[5,  4000] loss: 0.787\n",
            "[5,  6000] loss: 0.779\n",
            "[5,  8000] loss: 0.777\n",
            "[5, 10000] loss: 0.798\n",
            "[5, 12000] loss: 0.765\n",
            "[6,  2000] loss: 0.678\n",
            "[6,  4000] loss: 0.707\n",
            "[6,  6000] loss: 0.716\n",
            "[6,  8000] loss: 0.689\n",
            "[6, 10000] loss: 0.695\n",
            "[6, 12000] loss: 0.685\n",
            "[7,  2000] loss: 0.631\n",
            "[7,  4000] loss: 0.644\n",
            "[7,  6000] loss: 0.639\n",
            "[7,  8000] loss: 0.650\n",
            "[7, 10000] loss: 0.628\n",
            "[7, 12000] loss: 0.628\n",
            "[8,  2000] loss: 0.563\n",
            "[8,  4000] loss: 0.585\n",
            "[8,  6000] loss: 0.570\n",
            "[8,  8000] loss: 0.586\n",
            "[8, 10000] loss: 0.591\n",
            "[8, 12000] loss: 0.598\n",
            "[9,  2000] loss: 0.522\n",
            "[9,  4000] loss: 0.516\n",
            "[9,  6000] loss: 0.534\n",
            "[9,  8000] loss: 0.545\n",
            "[9, 10000] loss: 0.560\n",
            "[9, 12000] loss: 0.554\n",
            "[10,  2000] loss: 0.453\n",
            "[10,  4000] loss: 0.493\n",
            "[10,  6000] loss: 0.496\n",
            "[10,  8000] loss: 0.501\n",
            "[10, 10000] loss: 0.498\n",
            "[10, 12000] loss: 0.514\n",
            "[11,  2000] loss: 0.432\n",
            "[11,  4000] loss: 0.448\n",
            "[11,  6000] loss: 0.451\n",
            "[11,  8000] loss: 0.474\n",
            "[11, 10000] loss: 0.473\n",
            "[11, 12000] loss: 0.480\n",
            "[12,  2000] loss: 0.414\n",
            "[12,  4000] loss: 0.430\n",
            "[12,  6000] loss: 0.430\n",
            "[12,  8000] loss: 0.434\n",
            "[12, 10000] loss: 0.421\n",
            "[12, 12000] loss: 0.442\n",
            "[13,  2000] loss: 0.371\n",
            "[13,  4000] loss: 0.392\n",
            "[13,  6000] loss: 0.401\n",
            "[13,  8000] loss: 0.395\n",
            "[13, 10000] loss: 0.398\n",
            "[13, 12000] loss: 0.425\n",
            "[14,  2000] loss: 0.345\n",
            "[14,  4000] loss: 0.369\n",
            "[14,  6000] loss: 0.349\n",
            "[14,  8000] loss: 0.387\n",
            "[14, 10000] loss: 0.376\n",
            "[14, 12000] loss: 0.394\n",
            "[15,  2000] loss: 0.323\n",
            "[15,  4000] loss: 0.336\n",
            "[15,  6000] loss: 0.358\n",
            "[15,  8000] loss: 0.353\n",
            "[15, 10000] loss: 0.350\n",
            "[15, 12000] loss: 0.355\n",
            "[16,  2000] loss: 0.294\n",
            "[16,  4000] loss: 0.313\n",
            "[16,  6000] loss: 0.329\n",
            "[16,  8000] loss: 0.315\n",
            "[16, 10000] loss: 0.329\n",
            "[16, 12000] loss: 0.349\n",
            "[17,  2000] loss: 0.274\n",
            "[17,  4000] loss: 0.302\n",
            "[17,  6000] loss: 0.290\n",
            "[17,  8000] loss: 0.313\n",
            "[17, 10000] loss: 0.313\n",
            "[17, 12000] loss: 0.329\n",
            "[18,  2000] loss: 0.263\n",
            "[18,  4000] loss: 0.279\n",
            "[18,  6000] loss: 0.295\n",
            "[18,  8000] loss: 0.293\n",
            "[18, 10000] loss: 0.305\n",
            "[18, 12000] loss: 0.293\n",
            "[19,  2000] loss: 0.241\n",
            "[19,  4000] loss: 0.262\n",
            "[19,  6000] loss: 0.259\n",
            "[19,  8000] loss: 0.264\n",
            "[19, 10000] loss: 0.279\n",
            "[19, 12000] loss: 0.289\n",
            "[20,  2000] loss: 0.229\n",
            "[20,  4000] loss: 0.236\n",
            "[20,  6000] loss: 0.232\n",
            "[20,  8000] loss: 0.252\n",
            "[20, 10000] loss: 0.270\n",
            "[20, 12000] loss: 0.267\n",
            "[21,  2000] loss: 0.202\n",
            "[21,  4000] loss: 0.226\n",
            "[21,  6000] loss: 0.227\n",
            "[21,  8000] loss: 0.251\n",
            "[21, 10000] loss: 0.247\n",
            "[21, 12000] loss: 0.258\n",
            "[22,  2000] loss: 0.206\n",
            "[22,  4000] loss: 0.220\n",
            "[22,  6000] loss: 0.220\n",
            "[22,  8000] loss: 0.225\n",
            "[22, 10000] loss: 0.232\n",
            "[22, 12000] loss: 0.255\n",
            "[23,  2000] loss: 0.188\n",
            "[23,  4000] loss: 0.189\n",
            "[23,  6000] loss: 0.204\n",
            "[23,  8000] loss: 0.213\n",
            "[23, 10000] loss: 0.213\n",
            "[23, 12000] loss: 0.238\n",
            "[24,  2000] loss: 0.173\n",
            "[24,  4000] loss: 0.190\n",
            "[24,  6000] loss: 0.192\n",
            "[24,  8000] loss: 0.209\n",
            "[24, 10000] loss: 0.206\n",
            "[24, 12000] loss: 0.224\n",
            "[25,  2000] loss: 0.179\n",
            "[25,  4000] loss: 0.173\n",
            "[25,  6000] loss: 0.181\n",
            "[25,  8000] loss: 0.183\n",
            "[25, 10000] loss: 0.183\n",
            "[25, 12000] loss: 0.199\n",
            "Training Complete\n"
          ],
          "name": "stdout"
        }
      ]
    },
    {
      "cell_type": "code",
      "metadata": {
        "id": "xezzE3iBPzCV",
        "colab_type": "code",
        "outputId": "e0093518-0a3e-47a3-cffc-93015f6873f1",
        "colab": {
          "base_uri": "https://localhost:8080/",
          "height": 34
        }
      },
      "source": [
        "backbone.val_acc(testloader,model,device)"
      ],
      "execution_count": 0,
      "outputs": [
        {
          "output_type": "stream",
          "text": [
            "Accuracy of the network on the 10000 test images: 80.200000 %\n"
          ],
          "name": "stdout"
        }
      ]
    },
    {
      "cell_type": "code",
      "metadata": {
        "id": "hOd12mgl_MHV",
        "colab_type": "code",
        "outputId": "d68476d1-5d45-453b-935b-100f6e14e325",
        "colab": {
          "base_uri": "https://localhost:8080/",
          "height": 187
        }
      },
      "source": [
        "bakbone.class_acc(testloader,model,device,classes)"
      ],
      "execution_count": 0,
      "outputs": [
        {
          "output_type": "stream",
          "text": [
            "Accuracy of plane : 87 %\n",
            "Accuracy of   car : 90 %\n",
            "Accuracy of  bird : 67 %\n",
            "Accuracy of   cat : 61 %\n",
            "Accuracy of  deer : 81 %\n",
            "Accuracy of   dog : 78 %\n",
            "Accuracy of  frog : 83 %\n",
            "Accuracy of horse : 82 %\n",
            "Accuracy of  ship : 85 %\n",
            "Accuracy of truck : 87 %\n"
          ],
          "name": "stdout"
        }
      ]
    }
  ]
}